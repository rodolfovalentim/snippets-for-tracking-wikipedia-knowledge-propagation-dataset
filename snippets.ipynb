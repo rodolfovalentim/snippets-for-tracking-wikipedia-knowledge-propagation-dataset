{
 "cells": [
  {
   "cell_type": "markdown",
   "id": "primary-vatican",
   "metadata": {},
   "source": [
    "# Tracking Knowledge Propagation Across Wikipedia Languages\n",
    "\n",
    "We present a dataset of inter-language knowledge propagation in Wikipedia. The dataset includes the data from 2001 to the first trimester of 2020. Covering the entire 309 language editions and 33M articles, the dataset aims to track the full propagation history of Wikipedia concepts, and allow follow up research on building predictive models of them. For this purpose, we align all the Wikipedia articles in a language-agnostic manner according to the concept they cover, which results in 13M propagation instances. To the best of our knowledge, this dataset is the first to explore the full inter-language propagation at a large scale.\n",
    "\n",
    "Authors:\n",
    "- Rodolfo Valentim\n",
    "- Giovanni Comarela\n",
    "- Souneil Park\n",
    "- Diego Saez-Trumper\n"
   ]
  },
  {
   "cell_type": "markdown",
   "id": "usual-vegetation",
   "metadata": {},
   "source": [
    "## Load entire dataset"
   ]
  },
  {
   "cell_type": "code",
   "execution_count": 1,
   "id": "fitted-avatar",
   "metadata": {},
   "outputs": [
    {
     "data": {
      "text/html": [
       "<div>\n",
       "<style scoped>\n",
       "    .dataframe tbody tr th:only-of-type {\n",
       "        vertical-align: middle;\n",
       "    }\n",
       "\n",
       "    .dataframe tbody tr th {\n",
       "        vertical-align: top;\n",
       "    }\n",
       "\n",
       "    .dataframe thead th {\n",
       "        text-align: right;\n",
       "    }\n",
       "</style>\n",
       "<table border=\"1\" class=\"dataframe\">\n",
       "  <thead>\n",
       "    <tr style=\"text-align: right;\">\n",
       "      <th></th>\n",
       "      <th>Wikidata ID</th>\n",
       "      <th>Language Edition</th>\n",
       "      <th>Creation Timestamp</th>\n",
       "      <th>Topics</th>\n",
       "      <th>Scores</th>\n",
       "    </tr>\n",
       "  </thead>\n",
       "  <tbody>\n",
       "    <tr>\n",
       "      <th>0</th>\n",
       "      <td>Q1</td>\n",
       "      <td>plwiki;svwiki;jawiki;fiwiki;frwiki;cswiki;mswi...</td>\n",
       "      <td>1023468530;1038689254;1047585716;1053504055;10...</td>\n",
       "      <td>STEM.Space;STEM.STEM*;STEM.Physics</td>\n",
       "      <td>0.99;0.97;0.97</td>\n",
       "    </tr>\n",
       "    <tr>\n",
       "      <th>1</th>\n",
       "      <td>Q100</td>\n",
       "      <td>enwiki;svwiki;frwiki;nlwiki;zhwiki;eswiki;fiwi...</td>\n",
       "      <td>999811023;1045709287;1048540987;1073222047;108...</td>\n",
       "      <td>Geography.Geographical</td>\n",
       "      <td>0.9</td>\n",
       "    </tr>\n",
       "    <tr>\n",
       "      <th>2</th>\n",
       "      <td>Q1000</td>\n",
       "      <td>enwiki;dewiki;svwiki;eswiki;nlwiki;jawiki;etwi...</td>\n",
       "      <td>999997044;1033492217;1045359510;1061260123;106...</td>\n",
       "      <td>Geography.Geographical;Geography.Regions.Afric...</td>\n",
       "      <td>0.9;0.77</td>\n",
       "    </tr>\n",
       "    <tr>\n",
       "      <th>3</th>\n",
       "      <td>Q10000</td>\n",
       "      <td>enwiki;eswiki;plwiki;fiwiki;jawiki;zhwiki;nlwi...</td>\n",
       "      <td>1103755157;1124976107;1138957516;1146600855;11...</td>\n",
       "      <td>STEM.Libraries_&amp;_Information;STEM.STEM*</td>\n",
       "      <td>0.99;0.98</td>\n",
       "    </tr>\n",
       "    <tr>\n",
       "      <th>4</th>\n",
       "      <td>Q100000</td>\n",
       "      <td>nlwiki;enwiki;liwiki;frwiki;zhwiki;cawiki;arzwiki</td>\n",
       "      <td>1139001160;1139662968;1142592879;1244377983;13...</td>\n",
       "      <td>Geography.Regions.Europe.Western_Europe;Geogra...</td>\n",
       "      <td>1.0;1.0;0.94</td>\n",
       "    </tr>\n",
       "  </tbody>\n",
       "</table>\n",
       "</div>"
      ],
      "text/plain": [
       "  Wikidata ID                                   Language Edition  \\\n",
       "0          Q1  plwiki;svwiki;jawiki;fiwiki;frwiki;cswiki;mswi...   \n",
       "1        Q100  enwiki;svwiki;frwiki;nlwiki;zhwiki;eswiki;fiwi...   \n",
       "2       Q1000  enwiki;dewiki;svwiki;eswiki;nlwiki;jawiki;etwi...   \n",
       "3      Q10000  enwiki;eswiki;plwiki;fiwiki;jawiki;zhwiki;nlwi...   \n",
       "4     Q100000  nlwiki;enwiki;liwiki;frwiki;zhwiki;cawiki;arzwiki   \n",
       "\n",
       "                                  Creation Timestamp  \\\n",
       "0  1023468530;1038689254;1047585716;1053504055;10...   \n",
       "1  999811023;1045709287;1048540987;1073222047;108...   \n",
       "2  999997044;1033492217;1045359510;1061260123;106...   \n",
       "3  1103755157;1124976107;1138957516;1146600855;11...   \n",
       "4  1139001160;1139662968;1142592879;1244377983;13...   \n",
       "\n",
       "                                              Topics          Scores  \n",
       "0                 STEM.Space;STEM.STEM*;STEM.Physics  0.99;0.97;0.97  \n",
       "1                             Geography.Geographical             0.9  \n",
       "2  Geography.Geographical;Geography.Regions.Afric...        0.9;0.77  \n",
       "3            STEM.Libraries_&_Information;STEM.STEM*       0.99;0.98  \n",
       "4  Geography.Regions.Europe.Western_Europe;Geogra...    1.0;1.0;0.94  "
      ]
     },
     "execution_count": 1,
     "metadata": {},
     "output_type": "execute_result"
    }
   ],
   "source": [
    "import pandas as pd \n",
    "\n",
    "wikipedia_df = pd.read_csv('https://zenodo.org/record/4433137/files/dataset.csv.zip', sep=',')\n",
    "wikipedia_df.head()"
   ]
  },
  {
   "cell_type": "markdown",
   "id": "flexible-sacramento",
   "metadata": {},
   "source": [
    "## Load dataset by chuncks"
   ]
  },
  {
   "cell_type": "code",
   "execution_count": 13,
   "id": "manual-frontier",
   "metadata": {},
   "outputs": [
    {
     "name": "stdout",
     "output_type": "stream",
     "text": [
      "(100, 5)\n"
     ]
    }
   ],
   "source": [
    "import pandas as pd \n",
    "\n",
    "for chunk in pd.read_csv('https://zenodo.org/record/4433137/files/dataset.csv.zip', chunksize=10**2, sep=','):\n",
    "    print(chunk.shape)\n",
    "    break  # remove this line to run through the entire dataset "
   ]
  },
  {
   "cell_type": "markdown",
   "id": "humanitarian-zambia",
   "metadata": {},
   "source": [
    "## Terminology\n",
    "\n",
    "- Wikidata ID: the language-agnostic Wikidata identifier; for instance Q298 (Chile).\\footnote{\\url{https://www.wikidata.org/wiki/Q298}} %used to identify a concept. \n",
    "- Language Edition: a specific language instance of an item. For example, the Portuguese version of Q298 would be ptwiki-Q298.\\footnote{\\url{https://pt.wikipedia.org/wiki/Chile}}\n",
    "- Creation Timestamp: an ordered list of linux timestamp align with the Language Edition list.\n",
    "- Topics: a set of items belonging to the same topic (e.g. History). Note that the topic is assigned to the item, and is propagated to all the pages of the item. Therefore, if item Q298 belongs to the topic 'Geography', all the pages about Q298 would also belong to the same topic.\\footnote{\\url{https://meta.wikimedia.org/wiki/Research:Language-Agnostic_Topic_Classification}}\n",
    "- Scores: an ordered list aling with the set of Topics that represent the probability of the assign topic being correct.\n",
    "\n",
    "We emphasize that we removed non-Wikipedia projects such as Wiktionary, Wikiquote, Wikibooks, and others. Furthermore, we also make the same dataset available in a CSV file, which is sorted first by Wikidata item and then by time of page creation."
   ]
  },
  {
   "cell_type": "markdown",
   "id": "moral-webcam",
   "metadata": {},
   "source": [
    "## Process each collumn"
   ]
  },
  {
   "cell_type": "code",
   "execution_count": null,
   "id": "dental-bidding",
   "metadata": {},
   "outputs": [
    {
     "name": "stderr",
     "output_type": "stream",
     "text": [
      "/opt/anaconda3/envs/bigdatalab_gpu_202101/lib/python3.7/site-packages/tqdm/std.py:697: FutureWarning: The Panel class is removed from pandas. Accessing it from the top-level namespace will also be removed in the next version\n",
      "  from pandas import Panel\n",
      "100%|██████████| 13251684/13251684 [00:25<00:00, 511762.15it/s]\n",
      "100%|██████████| 13251684/13251684 [00:26<00:00, 503124.73it/s]\n",
      "100%|██████████| 13251684/13251684 [00:15<00:00, 843272.24it/s]\n",
      " 80%|███████▉  | 10550730/13251684 [00:26<00:02, 913204.84it/s]"
     ]
    }
   ],
   "source": [
    "import pandas as pd \n",
    "import numpy as np\n",
    "from tqdm import tqdm # install the package tqdm\n",
    "tqdm.pandas() # If you want to show progress bar in the processing. If not, replace progress_apply by apply\n",
    "\n",
    "wikipedia_df = pd.read_csv('https://zenodo.org/record/4433137/files/dataset.csv.zip', sep=',')\n",
    "\n",
    "wikipedia_df['Language Edition'] = wikipedia_df['Language Edition'].progress_apply(lambda x: x.split(\";\"))\n",
    "\n",
    "wikipedia_df['Creation Timestamp'] = wikipedia_df['Creation Timestamp'].progress_apply(lambda x: x.split(\";\"))\n",
    "\n",
    "wikipedia_df['Topics'] = wikipedia_df['Topics'].replace(np.nan, '', regex=True)\n",
    "wikipedia_df['Topics'] = wikipedia_df['Topics'].progress_apply(lambda x: x.split(\";\"))\n",
    "\n",
    "wikipedia_df['Scores'] = wikipedia_df['Scores'].replace(np.nan, '', regex=True)\n",
    "wikipedia_df['Scores'] = wikipedia_df['Scores'].progress_apply(lambda x: x.split(\";\"))\n",
    "\n",
    "wikipedia_df.head()"
   ]
  },
  {
   "cell_type": "code",
   "execution_count": null,
   "id": "medieval-general",
   "metadata": {},
   "outputs": [],
   "source": []
  }
 ],
 "metadata": {
  "kernelspec": {
   "display_name": "Python 3",
   "language": "python",
   "name": "python3"
  },
  "language_info": {
   "codemirror_mode": {
    "name": "ipython",
    "version": 3
   },
   "file_extension": ".py",
   "mimetype": "text/x-python",
   "name": "python",
   "nbconvert_exporter": "python",
   "pygments_lexer": "ipython3",
   "version": "3.7.9"
  }
 },
 "nbformat": 4,
 "nbformat_minor": 5
}
